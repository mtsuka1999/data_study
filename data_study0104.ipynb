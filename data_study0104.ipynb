{
  "nbformat": 4,
  "nbformat_minor": 0,
  "metadata": {
    "colab": {
      "name": "data_study0104.ipynb ",
      "provenance": [],
      "collapsed_sections": [],
      "include_colab_link": true
    },
    "kernelspec": {
      "name": "python3",
      "display_name": "Python 3"
    }
  },
  "cells": [
    {
      "cell_type": "markdown",
      "metadata": {
        "id": "view-in-github",
        "colab_type": "text"
      },
      "source": [
        "<a href=\"https://colab.research.google.com/github/mtsuka1999/data_study/blob/main/data_study0104.ipynb\" target=\"_parent\"><img src=\"https://colab.research.google.com/assets/colab-badge.svg\" alt=\"Open In Colab\"/></a>"
      ]
    },
    {
      "cell_type": "markdown",
      "metadata": {
        "id": "1Pzdu8dOVb4r"
      },
      "source": [
        "参考（【データ分析入門】知識ゼロから始めるためのデータ分析ガイド） https://data-viz-lab.com/data-analysis-intro\r\n",
        "\r\n",
        "参考（Pythonでデータ分析〜ロジカルに「ええ店」を探す） https://note.com/natto_nebaneba/n/nedda4b7e8c9c\r\n",
        "参考（Google Colaboratoryの使い方【完全マニュアル】） https://obgynai.com/google-colaboratory/"
      ]
    },
    {
      "cell_type": "markdown",
      "metadata": {
        "id": "nuiqQNkA5Tul"
      },
      "source": [
        "# **スクレイピング（検索タグ：神奈川県・デート）**"
      ]
    },
    {
      "cell_type": "markdown",
      "metadata": {
        "id": "l-JoDM6lWgHA"
      },
      "source": [
        "初めに、、スクレイピングとは？？\r\n",
        "https://ai-inter1.com/python-webscraping/"
      ]
    },
    {
      "cell_type": "markdown",
      "metadata": {
        "id": "T5L8qaGzVB_-"
      },
      "source": [
        " ライブラリのインポート（おまじないだと思って下さい！）"
      ]
    },
    {
      "cell_type": "code",
      "metadata": {
        "id": "eekgt3M0U_jx"
      },
      "source": [
        "import requests\r\n",
        "from bs4 import BeautifulSoup\r\n",
        "import time\r\n",
        "import os\r\n",
        "import pandas as pd\r\n",
        "import codecs\r\n",
        "from urllib.parse import urljoin\r\n",
        "import time\r\n",
        "import numpy as np"
      ],
      "execution_count": null,
      "outputs": []
    },
    {
      "cell_type": "code",
      "metadata": {
        "id": "gRIIF8kb5Ksb"
      },
      "source": [
        "#関数の定義pd.Series\r\n",
        "#URL内のレストラン名を取得\r\n",
        "def get_restaurant_name(soup):\r\n",
        "   restaurant = soup.find_all(\"a\", class_=\"list-rst__rst-name-target cpy-rst-name js-ranking-num\")\r\n",
        "   return restaurant\r\n",
        "   \r\n",
        "#URL内の星の数を取得\r\n",
        "def get_stars(soup):\r\n",
        "   stars = (soup.find_all(\"span\", class_=\"c-rating__val c-rating__val--strong list-rst__rating-val\"))\r\n",
        "   stars = stars.apply(lambda x : str(x).replace(\"\"\"<span class=\"c-rating__val c-rating__val--strong list-rst__rating-val\">\"\"\",\"\"))#不要な語句を消す\r\n",
        "   stars = stars.apply(lambda x : str(x).replace(\"</span>\",\"\"))#不要な語句を消す\r\n",
        "   return stars\r\n",
        "   \r\n",
        "#URL内の値段を取得\r\n",
        "def get_dinner_price(soup):\r\n",
        "   dinner_price = pd.Series(soup.find_all(\"span\", class_=\"c-rating__val list-rst__budget-val cpy-dinner-budget-val\"))\r\n",
        "   dinner_price = dinner_price.apply(lambda x : str(x).replace(\"\"\"<span class=\"c-rating__val list-rst__budget-val cpy-dinner-budget-val\">￥\"\"\",\"\"))#不要な語句を消す\r\n",
        "   dinner_price = dinner_price.apply(lambda x : str(x).replace(\"</span>\",\"\"))#不要な語句を消す\r\n",
        "   dinner_price = dinner_price.apply(lambda x : str(x).replace(\"￥\",\"\"))#不要な語句を消す\r\n",
        "   return dinner_price\r\n",
        "\r\n",
        "#URL内のレビュー数を取得\r\n",
        "def get_review_number(soup):\r\n",
        "   review_number =  pd.Series(soup.find_all(\"em\", class_=\"list-rst__rvw-count-num cpy-review-count\"))\r\n",
        "   review_number = review_number.apply(lambda x : str(x).replace(\"\"\"<em class=\"list-rst__rvw-count-num cpy-review-count\">\"\"\",\"\"))#不要な語句を消す\r\n",
        "   review_number = review_number.apply(lambda x : str(x).replace(\"</em>\",\"\"))#不要な語句を消す\r\n",
        "   return review_number"
      ],
      "execution_count": null,
      "outputs": []
    },
    {
      "cell_type": "markdown",
      "metadata": {
        "id": "DSkNI0b08MPB"
      },
      "source": [
        "１ページ目のURLを変数にセット"
      ]
    },
    {
      "cell_type": "code",
      "metadata": {
        "id": "AQg6p0Yt810d"
      },
      "source": [
        "start_url = \"https://tabelog.com/kanagawa/rstLst/cond04-00-03/?Srt=D&SrtT=rt&sort_mode=1\""
      ],
      "execution_count": null,
      "outputs": []
    },
    {
      "cell_type": "markdown",
      "metadata": {
        "id": "JorBHOVC9eJ-"
      },
      "source": [
        "Beautifulsoup使ってURLの中の情報を取得"
      ]
    },
    {
      "cell_type": "code",
      "metadata": {
        "id": "cZi6UYDJ9mpM"
      },
      "source": [
        "#BeautifulSoupのインスタンスを作る\r\n",
        "start_r = requests.get(start_url)\r\n",
        "start_soup = BeautifulSoup(start_r.text, \"html.parser\")\r\n",
        "\r\n",
        "#確認\r\n",
        "print(start_soup.prettify())"
      ],
      "execution_count": null,
      "outputs": []
    },
    {
      "cell_type": "markdown",
      "metadata": {
        "id": "G5zTB8fa8kLg"
      },
      "source": [
        "空のリストを作って、"
      ]
    },
    {
      "cell_type": "code",
      "metadata": {
        "id": "T2iyPoIf7yP7"
      },
      "source": [
        "#ページ内の各要素を入れる空のリスト\r\n",
        "restaurants_list = []#レストラン名\r\n",
        "starts_list = []#星の数\r\n",
        "dinner_price_list = []#ディナーの値段の文字列\r\n",
        "review_number_list = []#レビュー数"
      ],
      "execution_count": null,
      "outputs": []
    },
    {
      "cell_type": "markdown",
      "metadata": {
        "id": "7aNPlO4o9FFr"
      },
      "source": [
        "１ページ目から取得した①店名、②星の数、③ディナーの値段、④レビュー数を一つずつリストに格納していく"
      ]
    },
    {
      "cell_type": "code",
      "metadata": {
        "id": "yn-37jFd9GeR"
      },
      "source": [
        "#レストラン名を取得して一つずつリストに格納\r\n",
        "restaurants = get_restaurant_name(start_soup)\r\n",
        "for restaurant in restaurants:\r\n",
        "   restaurants_list.append(restaurant)#取得したレストラン名をリストに格納\r\n",
        "\r\n",
        "#星の数を取得して一つずつリストに格納\r\n",
        "stars = get_stars(start_soup)\r\n",
        "for star in stars:\r\n",
        "   starts_list.append(star)#取得した星の数をリストに格納\r\n",
        "\r\n",
        "#値段を取得して一つずつリストに格納\r\n",
        "dinner_prices = get_dinner_price(start_soup)\r\n",
        "for dinner_price in dinner_prices:\r\n",
        "   dinner_price_list.append(dinner_price)#取得したディナーの値段をリストに格納\r\n",
        "\r\n",
        "#コメント数を取得して一つずつリストに格納\r\n",
        "reviews = get_review_number(start_soup)\r\n",
        "for review in reviews:\r\n",
        "   review_number_list.append(review)#取得したレビュー数をリストに格納"
      ],
      "execution_count": null,
      "outputs": []
    },
    {
      "cell_type": "markdown",
      "metadata": {
        "id": "zJoXNwN2Xu9A"
      },
      "source": [
        "まず、開始ページ（=2）数と終わりのページをセット"
      ]
    },
    {
      "cell_type": "code",
      "metadata": {
        "id": "9mzZZppbXLHt"
      },
      "source": [
        "#pageは2で固定\r\n",
        "page = 2\r\n",
        "\r\n",
        "#end_pageはエリアによって変える必要があります\r\n",
        "end_page = 10"
      ],
      "execution_count": null,
      "outputs": []
    },
    {
      "cell_type": "markdown",
      "metadata": {
        "id": "wsoqEgLqX2Cj"
      },
      "source": [
        "2ページ目から最後まで、一気にスクレイピング"
      ]
    },
    {
      "cell_type": "code",
      "metadata": {
        "colab": {
          "base_uri": "https://localhost:8080/"
        },
        "id": "ihV_W0_cX79y",
        "outputId": "2607e710-4cec-4c90-c17e-4a29b5aedcac"
      },
      "source": [
        "while page <= end_page:\r\n",
        "   taget_url = \"https://tabelog.com/kanagawa/rstLst/cond04-00-03/\"+str(page)+\"?Srt=D&SrtT=rt&sort_mode=1\"\r\n",
        "   r = requests.get(taget_url)\r\n",
        "   soup = BeautifulSoup(r.text, \"html.parser\")\r\n",
        "   \r\n",
        "   #レストラン名を取得して、リストに格納\r\n",
        "   restaurants = get_restaurant_name(soup)\r\n",
        "   for restaurant in restaurants:\r\n",
        "       restaurants_list.append(restaurant)\r\n",
        "       #print(restaurant)\r\n",
        "               \r\n",
        "   #星の数を取得してリストに格納\r\n",
        "   stars = get_stars(soup)\r\n",
        "   for star in stars:\r\n",
        "       starts_list.append(star)\r\n",
        "       \r\n",
        "   #値段を取得してリストに格納\r\n",
        "   dinner_prices = get_dinner_price(soup)\r\n",
        "   for dinner_price in dinner_prices:\r\n",
        "       dinner_price_list.append(dinner_price)\r\n",
        "\r\n",
        "  #コメント数を取得してリストに格納\r\n",
        "   comments = get_review_number(soup)\r\n",
        "   for comment in comments:\r\n",
        "       review_number_list.append(comment)\r\n",
        "\r\n",
        "   print(\"page {} done!\".format(page))\r\n",
        "   page += 1#これがないと無限ループ\r\n",
        "   time.sleep(5)#マナーとして\r\n",
        "print(\"End\")"
      ],
      "execution_count": null,
      "outputs": [
        {
          "output_type": "stream",
          "text": [
            "page 2 done!\n",
            "page 3 done!\n",
            "page 4 done!\n",
            "page 5 done!\n",
            "page 6 done!\n",
            "page 7 done!\n",
            "page 8 done!\n",
            "page 9 done!\n",
            "page 10 done!\n",
            "End\n"
          ],
          "name": "stdout"
        }
      ]
    },
    {
      "cell_type": "code",
      "metadata": {
        "colab": {
          "base_uri": "https://localhost:8080/"
        },
        "id": "AIsbKRj3YT7h",
        "outputId": "85ea310e-bd53-4a58-f19e-eda08e452fcf"
      },
      "source": [
        "#確認\r\n",
        "print(len(restaurants_list))\r\n",
        "print(len(starts_list))\r\n",
        "print(len(dinner_price_list))\r\n",
        "print(len(review_number_list))"
      ],
      "execution_count": null,
      "outputs": [
        {
          "output_type": "stream",
          "text": [
            "200\n",
            "200\n",
            "200\n",
            "200\n"
          ],
          "name": "stdout"
        }
      ]
    },
    {
      "cell_type": "code",
      "metadata": {
        "id": "CY21mI-8Yd3j"
      },
      "source": [
        "#空のデータフレームを作って\r\n",
        "df = pd.DataFrame(columns=[\"restaurant\",\"star\",\"dinner_price\",\"number_of_comments\"])\r\n",
        "\r\n",
        "#取得した各要素のリストをそれぞれ格納\r\n",
        "df.restaurant = restaurants_list\r\n",
        "df.star = starts_list\r\n",
        "df.dinner_price = dinner_price_list\r\n",
        "df.number_of_comments = review_number_list"
      ],
      "execution_count": null,
      "outputs": []
    },
    {
      "cell_type": "code",
      "metadata": {
        "colab": {
          "base_uri": "https://localhost:8080/",
          "height": 419
        },
        "id": "MT71OgLgYioE",
        "outputId": "817067e0-5668-4eac-e2f7-0107964b795f"
      },
      "source": [
        "#確認\r\n",
        "df.dtypes\r\n",
        "#扱いやすいように列の型を変更\r\n",
        "df.restaurant = df.restaurant.apply(lambda x : str(x))\r\n",
        "df.star = df.star.astype(\"float\")\r\n",
        "df.number_of_comments = df.number_of_comments.astype(\"int\")\r\n",
        "#restaurant列を列内で分割して新しい変数df2に格納\r\n",
        "df2 = df.restaurant.str.split(\">\",expand=True)\r\n",
        "\r\n",
        "#不要な列を削除\r\n",
        "df2.columns = [\"unnecessary\",\"name\",\"unnecessary2\"]\r\n",
        "df2 = df2.drop([\"unnecessary\",\"unnecessary2\"],axis=1)\r\n",
        "\r\n",
        "#不要な語句の削除と加工\r\n",
        "df2.name = df2.name.str.replace(\"</a\",\"\")\r\n",
        "df2.name = df2.name.str.replace(\" \",\"_\")#半角スペースをアンスコに\r\n",
        "df2.name = df2.name.str.replace(\"　\",\"_\")#全角スペースをアンスコに\r\n",
        "\r\n",
        "#確認\r\n",
        "df2"
      ],
      "execution_count": null,
      "outputs": [
        {
          "output_type": "execute_result",
          "data": {
            "text/html": [
              "<div>\n",
              "<style scoped>\n",
              "    .dataframe tbody tr th:only-of-type {\n",
              "        vertical-align: middle;\n",
              "    }\n",
              "\n",
              "    .dataframe tbody tr th {\n",
              "        vertical-align: top;\n",
              "    }\n",
              "\n",
              "    .dataframe thead th {\n",
              "        text-align: right;\n",
              "    }\n",
              "</style>\n",
              "<table border=\"1\" class=\"dataframe\">\n",
              "  <thead>\n",
              "    <tr style=\"text-align: right;\">\n",
              "      <th></th>\n",
              "      <th>name</th>\n",
              "    </tr>\n",
              "  </thead>\n",
              "  <tbody>\n",
              "    <tr>\n",
              "      <th>0</th>\n",
              "      <td>萬珍樓點心舗</td>\n",
              "    </tr>\n",
              "    <tr>\n",
              "      <th>1</th>\n",
              "      <td>ete</td>\n",
              "    </tr>\n",
              "    <tr>\n",
              "      <th>2</th>\n",
              "      <td>焼鳥_美鶏</td>\n",
              "    </tr>\n",
              "    <tr>\n",
              "      <th>3</th>\n",
              "      <td>クラリタ_ダ_マリッティマ</td>\n",
              "    </tr>\n",
              "    <tr>\n",
              "      <th>4</th>\n",
              "      <td>レストラン_ラ・マーレ</td>\n",
              "    </tr>\n",
              "    <tr>\n",
              "      <th>...</th>\n",
              "      <td>...</td>\n",
              "    </tr>\n",
              "    <tr>\n",
              "      <th>195</th>\n",
              "      <td>奥の掌</td>\n",
              "    </tr>\n",
              "    <tr>\n",
              "      <th>196</th>\n",
              "      <td>カリフォルニアラウンジ_矢向店</td>\n",
              "    </tr>\n",
              "    <tr>\n",
              "      <th>197</th>\n",
              "      <td>サカズキ屋</td>\n",
              "    </tr>\n",
              "    <tr>\n",
              "      <th>198</th>\n",
              "      <td>ヒジテツ_伊勢佐木町店</td>\n",
              "    </tr>\n",
              "    <tr>\n",
              "      <th>199</th>\n",
              "      <td>Y.S</td>\n",
              "    </tr>\n",
              "  </tbody>\n",
              "</table>\n",
              "<p>200 rows × 1 columns</p>\n",
              "</div>"
            ],
            "text/plain": [
              "                name\n",
              "0             萬珍樓點心舗\n",
              "1                ete\n",
              "2              焼鳥_美鶏\n",
              "3      クラリタ_ダ_マリッティマ\n",
              "4        レストラン_ラ・マーレ\n",
              "..               ...\n",
              "195              奥の掌\n",
              "196  カリフォルニアラウンジ_矢向店\n",
              "197            サカズキ屋\n",
              "198      ヒジテツ_伊勢佐木町店\n",
              "199              Y.S\n",
              "\n",
              "[200 rows x 1 columns]"
            ]
          },
          "metadata": {
            "tags": []
          },
          "execution_count": 11
        }
      ]
    },
    {
      "cell_type": "code",
      "metadata": {
        "colab": {
          "base_uri": "https://localhost:8080/",
          "height": 204
        },
        "id": "7_aMQXTnZDnz",
        "outputId": "834b06f2-fca5-4ed0-a5c5-02e25636dc96"
      },
      "source": [
        "#元のデータフレーム（df）と結合させて、元のrestaurant列は削除\r\n",
        "df = pd.concat([df,df2],axis=1).drop(\"restaurant\",axis=1)\r\n",
        "\r\n",
        "#確認\r\n",
        "df.head()"
      ],
      "execution_count": null,
      "outputs": [
        {
          "output_type": "execute_result",
          "data": {
            "text/html": [
              "<div>\n",
              "<style scoped>\n",
              "    .dataframe tbody tr th:only-of-type {\n",
              "        vertical-align: middle;\n",
              "    }\n",
              "\n",
              "    .dataframe tbody tr th {\n",
              "        vertical-align: top;\n",
              "    }\n",
              "\n",
              "    .dataframe thead th {\n",
              "        text-align: right;\n",
              "    }\n",
              "</style>\n",
              "<table border=\"1\" class=\"dataframe\">\n",
              "  <thead>\n",
              "    <tr style=\"text-align: right;\">\n",
              "      <th></th>\n",
              "      <th>star</th>\n",
              "      <th>dinner_price</th>\n",
              "      <th>number_of_comments</th>\n",
              "      <th>name</th>\n",
              "    </tr>\n",
              "  </thead>\n",
              "  <tbody>\n",
              "    <tr>\n",
              "      <th>0</th>\n",
              "      <td>3.77</td>\n",
              "      <td>6,000～7,999</td>\n",
              "      <td>417</td>\n",
              "      <td>萬珍樓點心舗</td>\n",
              "    </tr>\n",
              "    <tr>\n",
              "      <th>1</th>\n",
              "      <td>3.75</td>\n",
              "      <td>8,000～9,999</td>\n",
              "      <td>107</td>\n",
              "      <td>ete</td>\n",
              "    </tr>\n",
              "    <tr>\n",
              "      <th>2</th>\n",
              "      <td>3.74</td>\n",
              "      <td>5,000～5,999</td>\n",
              "      <td>145</td>\n",
              "      <td>焼鳥_美鶏</td>\n",
              "    </tr>\n",
              "    <tr>\n",
              "      <th>3</th>\n",
              "      <td>3.73</td>\n",
              "      <td>8,000～9,999</td>\n",
              "      <td>111</td>\n",
              "      <td>クラリタ_ダ_マリッティマ</td>\n",
              "    </tr>\n",
              "    <tr>\n",
              "      <th>4</th>\n",
              "      <td>3.72</td>\n",
              "      <td>3,000～3,999</td>\n",
              "      <td>260</td>\n",
              "      <td>レストラン_ラ・マーレ</td>\n",
              "    </tr>\n",
              "  </tbody>\n",
              "</table>\n",
              "</div>"
            ],
            "text/plain": [
              "   star dinner_price  number_of_comments           name\n",
              "0  3.77  6,000～7,999                 417         萬珍樓點心舗\n",
              "1  3.75  8,000～9,999                 107            ete\n",
              "2  3.74  5,000～5,999                 145          焼鳥_美鶏\n",
              "3  3.73  8,000～9,999                 111  クラリタ_ダ_マリッティマ\n",
              "4  3.72  3,000～3,999                 260    レストラン_ラ・マーレ"
            ]
          },
          "metadata": {
            "tags": []
          },
          "execution_count": 12
        }
      ]
    },
    {
      "cell_type": "code",
      "metadata": {
        "colab": {
          "base_uri": "https://localhost:8080/"
        },
        "id": "GW8DQ9igaXds",
        "outputId": "15fa259d-df15-4db6-aa5a-203b7d2ffa05"
      },
      "source": [
        "#スクレイピング過程で変な値が入ってるのがありそう。\r\n",
        "df.dinner_price.unique()"
      ],
      "execution_count": null,
      "outputs": [
        {
          "output_type": "execute_result",
          "data": {
            "text/plain": [
              "array(['6,000～7,999', '8,000～9,999', '5,000～5,999', '3,000～3,999',\n",
              "       '10,000～14,999', '4,000～4,999',\n",
              "       '<span class=\"c-rating__val list-rst__budget-val cpy-dinner-budget-val\">-',\n",
              "       '2,000～2,999'], dtype=object)"
            ]
          },
          "metadata": {
            "tags": []
          },
          "execution_count": 13
        }
      ]
    },
    {
      "cell_type": "code",
      "metadata": {
        "id": "TLplHBlGaZb3"
      },
      "source": [
        "#正常なレコードだけdfに格納し直し\r\n",
        "df = df[df.dinner_price != \"\"\"<span class=\"c-rating__val list-rst__budget-val cpy-dinner-budget-val\">-\"\"\"]"
      ],
      "execution_count": null,
      "outputs": []
    },
    {
      "cell_type": "markdown",
      "metadata": {
        "id": "Bro8rJfhajGm"
      },
      "source": [
        "ディナーの値段列を扱いやすいように加工"
      ]
    },
    {
      "cell_type": "code",
      "metadata": {
        "colab": {
          "base_uri": "https://localhost:8080/",
          "height": 204
        },
        "id": "RUl9he6Uac3V",
        "outputId": "91d85eb7-604f-44f2-d158-84705ff18f14"
      },
      "source": [
        "#~の文字で列内を分割して、df3に一旦格納\r\n",
        "df3 = df.dinner_price.str.split(\"～\",expand=True)\r\n",
        "df3.columns = [\"lower\",\"higher\"]\r\n",
        "\r\n",
        "#値段の文字列のカンマを消す\r\n",
        "df3.lower = df3.lower.str.replace(\",\",\"\")\r\n",
        "df3.higher = df3.higher.str.replace(\",\",\"\")\r\n",
        "\r\n",
        "#値段の文字列を整数に型を変換\r\n",
        "df3.lower = df3.lower.astype(int)\r\n",
        "df3.higher = df3.higher.astype(int)\r\n",
        "\r\n",
        "#元のデータフレームにくっつける\r\n",
        "df = pd.concat([df,df3],axis=1)\r\n",
        "\r\n",
        "#値段の上限の方が~999なので1足す（足さなくてもいいけど）\r\n",
        "df.higher = df.higher+1\r\n",
        "\r\n",
        "#下限と上限の平均を出しておく\r\n",
        "df[\"dinner_average\"] = (df3.lower + df3.higher)/2\r\n",
        "\r\n",
        "#確認\r\n",
        "df.head()"
      ],
      "execution_count": null,
      "outputs": [
        {
          "output_type": "execute_result",
          "data": {
            "text/html": [
              "<div>\n",
              "<style scoped>\n",
              "    .dataframe tbody tr th:only-of-type {\n",
              "        vertical-align: middle;\n",
              "    }\n",
              "\n",
              "    .dataframe tbody tr th {\n",
              "        vertical-align: top;\n",
              "    }\n",
              "\n",
              "    .dataframe thead th {\n",
              "        text-align: right;\n",
              "    }\n",
              "</style>\n",
              "<table border=\"1\" class=\"dataframe\">\n",
              "  <thead>\n",
              "    <tr style=\"text-align: right;\">\n",
              "      <th></th>\n",
              "      <th>star</th>\n",
              "      <th>dinner_price</th>\n",
              "      <th>number_of_comments</th>\n",
              "      <th>name</th>\n",
              "      <th>lower</th>\n",
              "      <th>higher</th>\n",
              "      <th>dinner_average</th>\n",
              "    </tr>\n",
              "  </thead>\n",
              "  <tbody>\n",
              "    <tr>\n",
              "      <th>0</th>\n",
              "      <td>3.77</td>\n",
              "      <td>6,000～7,999</td>\n",
              "      <td>417</td>\n",
              "      <td>萬珍樓點心舗</td>\n",
              "      <td>6000</td>\n",
              "      <td>8000</td>\n",
              "      <td>6999.5</td>\n",
              "    </tr>\n",
              "    <tr>\n",
              "      <th>1</th>\n",
              "      <td>3.75</td>\n",
              "      <td>8,000～9,999</td>\n",
              "      <td>107</td>\n",
              "      <td>ete</td>\n",
              "      <td>8000</td>\n",
              "      <td>10000</td>\n",
              "      <td>8999.5</td>\n",
              "    </tr>\n",
              "    <tr>\n",
              "      <th>2</th>\n",
              "      <td>3.74</td>\n",
              "      <td>5,000～5,999</td>\n",
              "      <td>145</td>\n",
              "      <td>焼鳥_美鶏</td>\n",
              "      <td>5000</td>\n",
              "      <td>6000</td>\n",
              "      <td>5499.5</td>\n",
              "    </tr>\n",
              "    <tr>\n",
              "      <th>3</th>\n",
              "      <td>3.73</td>\n",
              "      <td>8,000～9,999</td>\n",
              "      <td>111</td>\n",
              "      <td>クラリタ_ダ_マリッティマ</td>\n",
              "      <td>8000</td>\n",
              "      <td>10000</td>\n",
              "      <td>8999.5</td>\n",
              "    </tr>\n",
              "    <tr>\n",
              "      <th>4</th>\n",
              "      <td>3.72</td>\n",
              "      <td>3,000～3,999</td>\n",
              "      <td>260</td>\n",
              "      <td>レストラン_ラ・マーレ</td>\n",
              "      <td>3000</td>\n",
              "      <td>4000</td>\n",
              "      <td>3499.5</td>\n",
              "    </tr>\n",
              "  </tbody>\n",
              "</table>\n",
              "</div>"
            ],
            "text/plain": [
              "   star dinner_price  number_of_comments  ... lower  higher  dinner_average\n",
              "0  3.77  6,000～7,999                 417  ...  6000    8000          6999.5\n",
              "1  3.75  8,000～9,999                 107  ...  8000   10000          8999.5\n",
              "2  3.74  5,000～5,999                 145  ...  5000    6000          5499.5\n",
              "3  3.73  8,000～9,999                 111  ...  8000   10000          8999.5\n",
              "4  3.72  3,000～3,999                 260  ...  3000    4000          3499.5\n",
              "\n",
              "[5 rows x 7 columns]"
            ]
          },
          "metadata": {
            "tags": []
          },
          "execution_count": 15
        }
      ]
    },
    {
      "cell_type": "code",
      "metadata": {
        "id": "f67uEuXYbLqq"
      },
      "source": [
        ""
      ],
      "execution_count": null,
      "outputs": []
    },
    {
      "cell_type": "markdown",
      "metadata": {
        "id": "6pE-ilovbP-e"
      },
      "source": [
        "#３、グラフを作って「ちょうどええ店」を探す"
      ]
    },
    {
      "cell_type": "code",
      "metadata": {
        "id": "nid5Ap6SbSpS"
      },
      "source": [
        "#ライブラリのimport\r\n",
        "\r\n",
        "import matplotlib.pyplot as plt\r\n",
        "import seaborn as sns\r\n",
        "\r\n",
        "#seaborn色の設定\r\n",
        "sns.set_style('whitegrid')\r\n",
        "\r\n",
        "#matplotlibをインライン表示\r\n",
        "%matplotlib inline"
      ],
      "execution_count": null,
      "outputs": []
    },
    {
      "cell_type": "code",
      "metadata": {
        "colab": {
          "base_uri": "https://localhost:8080/",
          "height": 458
        },
        "id": "_5ayDd1RbYR6",
        "outputId": "68168365-3a72-4061-fcf9-835477e47dd7"
      },
      "source": [
        "#【星の数】と【ディナーの値段】で散布図\r\n",
        "\r\n",
        "sns.jointplot(x = \"star\", y = \"dinner_average\",data= df)"
      ],
      "execution_count": null,
      "outputs": [
        {
          "output_type": "execute_result",
          "data": {
            "text/plain": [
              "<seaborn.axisgrid.JointGrid at 0x7fe25de17278>"
            ]
          },
          "metadata": {
            "tags": []
          },
          "execution_count": 17
        },
        {
          "output_type": "display_data",
          "data": {
            "image/png": "[encoded data removed]",
            "text/plain": [
              "<Figure size 432x432 with 3 Axes>"
            ]
          },
          "metadata": {
            "tags": [],
            "needs_background": "light"
          }
        }
      ]
    },
    {
      "cell_type": "code",
      "metadata": {
        "id": "XhykTp_fbg_l"
      },
      "source": [
        "#レビュー数によってデータセットを分割する\r\n",
        "\r\n",
        "#レビュー数が平均以上あるグループ\r\n",
        "above_average  = df[df.number_of_comments >= df.number_of_comments.mean()]\r\n",
        "\r\n",
        "#レビュー数が平均以下あるグループ\r\n",
        "below_average  = df[df.number_of_comments <= df.number_of_comments.mean()]\r\n",
        "\r\n",
        "#レビュー数が30件以下のグループ\r\n",
        "under_30reviews  = df[df.number_of_comments <= 30]"
      ],
      "execution_count": null,
      "outputs": []
    },
    {
      "cell_type": "code",
      "metadata": {
        "id": "1kVtZUOlbrrc",
        "colab": {
          "base_uri": "https://localhost:8080/",
          "height": 458
        },
        "outputId": "7fb268b2-b3c0-45ee-fc90-4981fea29796"
      },
      "source": [
        "#それぞれ可視化\r\n",
        "\r\n",
        "sns.jointplot(x = \"star\", y = \"dinner_average\",data= above_average, xlim=(3.5,4.1))"
      ],
      "execution_count": null,
      "outputs": [
        {
          "output_type": "execute_result",
          "data": {
            "text/plain": [
              "<seaborn.axisgrid.JointGrid at 0x7fe25ad95978>"
            ]
          },
          "metadata": {
            "tags": []
          },
          "execution_count": 19
        },
        {
          "output_type": "display_data",
          "data": {
            "image/png": "[encoded data removed]",
            "text/plain": [
              "<Figure size 432x432 with 3 Axes>"
            ]
          },
          "metadata": {
            "tags": [],
            "needs_background": "light"
          }
        }
      ]
    },
    {
      "cell_type": "code",
      "metadata": {
        "id": "gsVANITob5CF",
        "colab": {
          "base_uri": "https://localhost:8080/",
          "height": 458
        },
        "outputId": "cd96e7c2-21dc-4b14-a702-955a460c210e"
      },
      "source": [
        "sns.jointplot(x = \"star\", y = \"dinner_average\",data= below_average, color=\"green\",xlim=(3.5,4.1))"
      ],
      "execution_count": null,
      "outputs": [
        {
          "output_type": "execute_result",
          "data": {
            "text/plain": [
              "<seaborn.axisgrid.JointGrid at 0x7fe25a80b7f0>"
            ]
          },
          "metadata": {
            "tags": []
          },
          "execution_count": 20
        },
        {
          "output_type": "display_data",
          "data": {
            "image/png": "[encoded data removed]",
            "text/plain": [
              "<Figure size 432x432 with 3 Axes>"
            ]
          },
          "metadata": {
            "tags": [],
            "needs_background": "light"
          }
        }
      ]
    },
    {
      "cell_type": "code",
      "metadata": {
        "id": "lI4SZIf2cQLT",
        "colab": {
          "base_uri": "https://localhost:8080/",
          "height": 458
        },
        "outputId": "3a2fee3c-c90b-431f-c80d-a069de5d371b"
      },
      "source": [
        "sns.jointplot(x = \"star\", y = \"dinner_average\",data= under_30reviews, color=\"red\",xlim=(3.5,4.1))"
      ],
      "execution_count": null,
      "outputs": [
        {
          "output_type": "execute_result",
          "data": {
            "text/plain": [
              "<seaborn.axisgrid.JointGrid at 0x7fe25a6a6be0>"
            ]
          },
          "metadata": {
            "tags": []
          },
          "execution_count": 21
        },
        {
          "output_type": "display_data",
          "data": {
            "image/png": "[encoded data removed]",
            "text/plain": [
              "<Figure size 432x432 with 3 Axes>"
            ]
          },
          "metadata": {
            "tags": [],
            "needs_background": "light"
          }
        }
      ]
    },
    {
      "cell_type": "code",
      "metadata": {
        "colab": {
          "base_uri": "https://localhost:8080/",
          "height": 111
        },
        "id": "-Wm89mUJcfIr",
        "outputId": "ab99a20e-1d43-46ef-d7f4-40be05895eac"
      },
      "source": [
        "above_average[(above_average.dinner_average <= 4000) & (above_average.star >=3.7)]"
      ],
      "execution_count": null,
      "outputs": [
        {
          "output_type": "execute_result",
          "data": {
            "text/html": [
              "<div>\n",
              "<style scoped>\n",
              "    .dataframe tbody tr th:only-of-type {\n",
              "        vertical-align: middle;\n",
              "    }\n",
              "\n",
              "    .dataframe tbody tr th {\n",
              "        vertical-align: top;\n",
              "    }\n",
              "\n",
              "    .dataframe thead th {\n",
              "        text-align: right;\n",
              "    }\n",
              "</style>\n",
              "<table border=\"1\" class=\"dataframe\">\n",
              "  <thead>\n",
              "    <tr style=\"text-align: right;\">\n",
              "      <th></th>\n",
              "      <th>star</th>\n",
              "      <th>dinner_price</th>\n",
              "      <th>number_of_comments</th>\n",
              "      <th>name</th>\n",
              "      <th>lower</th>\n",
              "      <th>higher</th>\n",
              "      <th>dinner_average</th>\n",
              "    </tr>\n",
              "  </thead>\n",
              "  <tbody>\n",
              "    <tr>\n",
              "      <th>4</th>\n",
              "      <td>3.72</td>\n",
              "      <td>3,000～3,999</td>\n",
              "      <td>260</td>\n",
              "      <td>レストラン_ラ・マーレ</td>\n",
              "      <td>3000</td>\n",
              "      <td>4000</td>\n",
              "      <td>3499.5</td>\n",
              "    </tr>\n",
              "    <tr>\n",
              "      <th>12</th>\n",
              "      <td>3.70</td>\n",
              "      <td>3,000～3,999</td>\n",
              "      <td>133</td>\n",
              "      <td>トラットリア_ダ・テレーサ</td>\n",
              "      <td>3000</td>\n",
              "      <td>4000</td>\n",
              "      <td>3499.5</td>\n",
              "    </tr>\n",
              "  </tbody>\n",
              "</table>\n",
              "</div>"
            ],
            "text/plain": [
              "    star dinner_price  number_of_comments  ... lower  higher  dinner_average\n",
              "4   3.72  3,000～3,999                 260  ...  3000    4000          3499.5\n",
              "12  3.70  3,000～3,999                 133  ...  3000    4000          3499.5\n",
              "\n",
              "[2 rows x 7 columns]"
            ]
          },
          "metadata": {
            "tags": []
          },
          "execution_count": 22
        }
      ]
    },
    {
      "cell_type": "markdown",
      "metadata": {
        "id": "Y0ewsHGyfdph"
      },
      "source": [
        "#結論\r\n"
      ]
    },
    {
      "cell_type": "markdown",
      "metadata": {
        "id": "aQUmIutXg-sl"
      },
      "source": [
        "横浜市周辺でデートにいいのは[トラットリア_ダ・テレーサ](https://tabelog.com/kanagawa/A1401/A140207/14042586/)"
      ]
    },
    {
      "cell_type": "markdown",
      "metadata": {
        "id": "H2JjnShggN-K"
      },
      "source": [
        "余談ですが、、、、\r\n",
        "個人的にデートにおすすめの店は横浜駅西口近くの\r\n",
        " [OSTERIA il FUOCO](https://tabelog.com/kanagawa/A1401/A140102/14051993/)です。リア充や落としたい人がいるひとは是非！！笑\r\n",
        "\r\n",
        "\r\n",
        "\r\n"
      ]
    }
  ]
}